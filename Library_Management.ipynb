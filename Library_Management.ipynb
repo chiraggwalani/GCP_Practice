{
  "nbformat": 4,
  "nbformat_minor": 0,
  "metadata": {
    "colab": {
      "provenance": []
    },
    "kernelspec": {
      "name": "python3",
      "display_name": "Python 3"
    },
    "language_info": {
      "name": "python"
    }
  },
  "cells": [
    {
      "cell_type": "code",
      "execution_count": null,
      "metadata": {
        "id": "GI4MCQs0YpTy"
      },
      "outputs": [],
      "source": []
    },
    {
      "cell_type": "markdown",
      "source": [
        "# From Here I am Starting BIG QUERY Project FOR Library Management\n",
        "\n",
        "---\n",
        "\n",
        "\n",
        "\n",
        ">\n",
        "SO first I have uploaded some of Data related to it in Goggle Big Query and created tables like database and here i will write some sql queries to perform some the operations\n"
      ],
      "metadata": {
        "id": "5eKzVnv9Y-jj"
      }
    },
    {
      "cell_type": "code",
      "source": [
        "from google.cloud import bigquery"
      ],
      "metadata": {
        "id": "MOPTywg7Y37P"
      },
      "execution_count": 3,
      "outputs": []
    },
    {
      "cell_type": "code",
      "source": [
        "key_path = '/content/uber-data-387518-d26ab336faa3.json'\n",
        "project_id = 'uber-data-387518'\n",
        "client = bigquery.Client.from_service_account_json(key_path, project=project_id)"
      ],
      "metadata": {
        "id": "JVAWLADJZehB"
      },
      "execution_count": 4,
      "outputs": []
    },
    {
      "cell_type": "markdown",
      "source": [
        " 1- How many copies of the book titled \"The Lost Tribe\" are owned by the library branch whose name is \"Sharpstown\"?"
      ],
      "metadata": {
        "id": "_Uy6wCf3aUel"
      }
    },
    {
      "cell_type": "code",
      "source": [
        "\n",
        "\n",
        "SQL_Q=\"\"\"\n",
        "  SELECT copies.book_copies_BranchID, branch.library_branch_BranchName,\n",
        "\t   copies.book_copies_No_Of_Copies,\n",
        "\t   book.book_Title\n",
        "\t   FROM `Library_managment.book_copies` AS copies\n",
        "\t\t\tINNER JOIN `Library_managment.Book` AS book ON copies.book_copies_BookID = book.book_ID\n",
        "\t\t\tINNER JOIN `Library_managment.Library` AS branch ON book_copies_BranchID = branch.library_id\n",
        "\t   WHERE book.book_Title='The Lost Tribe' AND branch.library_branch_BranchName='Sharpstown' \n",
        "     \"\"\"\n",
        "res=client.query(SQL_Q)\n",
        "\n",
        "\n",
        "for row in res.result():\n",
        "  print(row.values())\n"
      ],
      "metadata": {
        "colab": {
          "base_uri": "https://localhost:8080/",
          "height": 0
        },
        "id": "uBCxZikXaGRJ",
        "outputId": "121b45ea-32b8-43e2-f309-badc4ec8aa4c"
      },
      "execution_count": 5,
      "outputs": [
        {
          "output_type": "stream",
          "name": "stdout",
          "text": [
            "(1, 'Sharpstown', 5, 'The Lost Tribe')\n"
          ]
        }
      ]
    },
    {
      "cell_type": "markdown",
      "source": [
        "2- How many copies of the book titled \"The Lost Tribe\" are owned by each library branch?"
      ],
      "metadata": {
        "id": "yE1YSkBIa6oi"
      }
    },
    {
      "cell_type": "code",
      "source": [
        "SQL_Q=\"\"\"\n",
        "\n",
        "     SELECT copies.book_copies_BranchID, branch.library_branch_BranchName,\n",
        "\t   copies.book_copies_No_Of_Copies,\n",
        "\t   book.book_Title\n",
        "\t   FROM `Library_managment.book_copies` AS copies\n",
        "\t\t\tINNER JOIN `Library_managment.Book` AS book ON copies.book_copies_BookID = book.book_ID\n",
        "\t\t\tINNER JOIN `Library_managment.Library` AS branch ON book_copies_BranchID = branch.library_id\n",
        "\t   WHERE book.book_Title = 'The Lost Tribe' \n",
        "     \"\"\"\n",
        "\n",
        "res=client.query(SQL_Q)\n",
        "\n",
        "\n",
        "for row in res.result():\n",
        "  print(row.values())\n"
      ],
      "metadata": {
        "colab": {
          "base_uri": "https://localhost:8080/",
          "height": 0
        },
        "id": "xxZRxTjlbG_v",
        "outputId": "9a225fd0-4202-47f0-85ab-a2dfdacd5b96"
      },
      "execution_count": 6,
      "outputs": [
        {
          "output_type": "stream",
          "name": "stdout",
          "text": [
            "(1, 'Sharpstown', 5, 'The Lost Tribe')\n",
            "(2, 'Central', 5, 'The Lost Tribe')\n",
            "(3, 'Saline', 5, 'The Lost Tribe')\n",
            "(4, 'Ann Arbor', 5, 'The Lost Tribe')\n"
          ]
        }
      ]
    },
    {
      "cell_type": "markdown",
      "source": [
        "3- Retrieve the names of all borrowers who do not have any books checked out."
      ],
      "metadata": {
        "id": "q1YcNGHUbPuE"
      }
    },
    {
      "cell_type": "code",
      "source": [
        "SQL_Q= \"\"\"\n",
        "SELECT borrower_BorrowerName FROM `Library_managment.Borrower`\n",
        "\tWHERE NOT EXISTS\n",
        "\t\t(SELECT * FROM `Library_managment.book_loans`\n",
        "\t\tWHERE book_loans_CardNo = borrower_CardNo_)\n",
        "    \"\"\"\n",
        "\n",
        "res=client.query(SQL_Q)\n",
        "\n",
        "for row in res.result():\n",
        "  print(row.values())\n"
      ],
      "metadata": {
        "colab": {
          "base_uri": "https://localhost:8080/",
          "height": 0
        },
        "id": "K0pRcr3VbYyY",
        "outputId": "f51c2a0a-9c55-4553-ecc6-0caf7dc5bba3"
      },
      "execution_count": 7,
      "outputs": [
        {
          "output_type": "stream",
          "name": "stdout",
          "text": [
            "('Michael Horford',)\n",
            "('Joe Smith',)\n"
          ]
        }
      ]
    },
    {
      "cell_type": "markdown",
      "source": [
        "4- For each library branch, retrieve the branch name and the total number of books loaned out from that branch.\n",
        "\n",
        "> "
      ],
      "metadata": {
        "id": "btUM0tgMbtx8"
      }
    },
    {
      "cell_type": "code",
      "source": [
        "SQL_Q=\"\"\"\n",
        "SELECT  Branch.library_branch_BranchName, COUNT (Loans.book_loans_BranchID)\n",
        "\t\tFROM `Library_managment.book_loans` AS Loans\n",
        "\t\t\tINNER JOIN `Library_managment.Library` AS Branch ON Loans.book_loans_BranchID = Branch.library_id\n",
        "\t\t\tGROUP BY library_branch_BranchName\n",
        "\"\"\"\n",
        "res=client.query(SQL_Q)\n",
        "\n",
        "for row in res.result():\n",
        "  print(row.values())\n",
        "\n"
      ],
      "metadata": {
        "colab": {
          "base_uri": "https://localhost:8080/",
          "height": 0
        },
        "id": "Ps7l8yyEcia7",
        "outputId": "f7323f02-38b2-4ebf-e629-9e59a27fff31"
      },
      "execution_count": 8,
      "outputs": [
        {
          "output_type": "stream",
          "name": "stdout",
          "text": [
            "('Ann Arbor', 20)\n",
            "('Central', 11)\n",
            "('Saline', 10)\n",
            "('Sharpstown', 10)\n"
          ]
        }
      ]
    },
    {
      "cell_type": "markdown",
      "source": [
        "5- Retrieve the names, addresses, and number of books checked out for all borrowers who have more than five books checked out."
      ],
      "metadata": {
        "id": "CtPm81TWcteC"
      }
    },
    {
      "cell_type": "code",
      "source": [
        "SQL_Q=\"\"\"\n",
        "\n",
        "SELECT Borrower.borrower_BorrowerName, Borrower.borrower_BorrowerAddress,\n",
        "\t\t   COUNT(Borrower.borrower_BorrowerName)\n",
        "\t\t   FROM `Library_managment.book_loans` As Loans\n",
        "\t\t   \t\t\tINNER JOIN `Library_managment.Borrower` AS Borrower ON Loans.book_loans_CardNo = Borrower.borrower_CardNo_\n",
        "\t\t\t\t\tGROUP BY Borrower.borrower_BorrowerName, Borrower.borrower_BorrowerAddress\n",
        "\t\t   HAVING COUNT(Borrower.borrower_BorrowerName) >=5\n",
        "\"\"\"\n",
        "\n",
        "res=client.query(SQL_Q)\n",
        "\n",
        "for row in res.result():\n",
        "  print(row.values())\n"
      ],
      "metadata": {
        "colab": {
          "base_uri": "https://localhost:8080/",
          "height": 0
        },
        "id": "dcEV0TlOc2aS",
        "outputId": "1de8b00f-c895-4be9-e9ac-b9a4dc169a48"
      },
      "execution_count": 9,
      "outputs": [
        {
          "output_type": "stream",
          "name": "stdout",
          "text": [
            "('Jane Smith', '1321 4th Street, New York, NY 10014', 14)\n",
            "('Harry Emnace', '121 Park Drive, Ann Arbor, MI 48104', 6)\n",
            "('Haley Jackson', '231 52nd Avenue New York, NY 10014', 8)\n",
            "('Tom Li', '981 Main Street, Ann Arbor, MI 48104', 11)\n"
          ]
        }
      ]
    },
    {
      "cell_type": "markdown",
      "source": [
        "6- For each book authored by \"Stephen King\", retrieve the title and the \n",
        "number of copies owned by the library branch whose name is \"Central\""
      ],
      "metadata": {
        "id": "IiqPhI2Sc_gz"
      }
    },
    {
      "cell_type": "code",
      "source": [
        "SQL_Q=\"\"\"\n",
        "SELECT Branch.library_branch_BranchName, Book.book_Title, Copies.book_copies_No_Of_Copies\n",
        "\t\t   FROM `Library_managment.Book_Authors` AS Authors\n",
        "\t\t\t\tINNER JOIN `Library_managment.Book` AS Book ON Authors.book_authors_BookID = Book.book_ID\n",
        "\t\t\t\tINNER JOIN `Library_managment.book_copies` AS Copies ON Authors.book_authors_BookID = Copies.book_copies_BookID\n",
        "\t\t\t\tINNER JOIN `Library_managment.Library` AS Branch ON Copies.book_copies_BranchID = Branch.library_id\n",
        "\t\t\tWHERE Branch.library_branch_BranchName = 'Central' AND Authors.book_authors_AuthorName ='Stephen King'\n",
        "    \"\"\"\n",
        "  \n",
        "res=client.query(SQL_Q)\n",
        "\n",
        "for row in res.result():\n",
        "  print(row.values())\n",
        "\n"
      ],
      "metadata": {
        "colab": {
          "base_uri": "https://localhost:8080/",
          "height": 0
        },
        "id": "Y-0IzGWHc-eM",
        "outputId": "954a4b5a-42df-4837-c54a-6bddfa090435"
      },
      "execution_count": 10,
      "outputs": [
        {
          "output_type": "stream",
          "name": "stdout",
          "text": [
            "('Central', 'It', 5)\n",
            "('Central', 'The Green Mile', 5)\n"
          ]
        }
      ]
    }
  ]
}